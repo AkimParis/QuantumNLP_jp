{
 "cells": [
  {
   "cell_type": "markdown",
   "id": "33a93311",
   "metadata": {},
   "source": [
    "# <div align=\"center\">Quantum Natural Language Processing in Japanese  <br> 日本語の量子自然言語処理</div>\n",
    "*** \n",
    "In 2020, I discovered a great book called ***“Picturing Quantum Processes: A First Course in Quantum Theory and Diagrammatic Reasoning”*** written by Bob Coecke and Aleks Kissinger both from Oxford University at that time. The fascinating book about quantum theory is written with a funny touch and cool illustrations allowing  to be easily understood by a diverse audience. Yet, it was recently with a philosophy book that I realized the importance of another vision in natural language processing, and the possible impact of quantum computing. \n",
    "\n",
    "In the book ***“A theory of the Drone”***, the author Grégoire Chamayou explained that *“Today that mode of (classical military) projection has been replaced or supplemented by another. To put that in very schematic terms, we have switched from the horizontal to the vertical, from the two-dimensional space of the old maps of army staffs to geopolitics based on volumes.”*  (G.Chamayou, Page 98)\n",
    "\n",
    "Constantly shifting toward more data and more computing power, the modern approach to natural language processing is still essentially flat.\n",
    "\n",
    "In 2017, NLP models based on the attention architecture delivered huge gains for a few years. Since 2019, benchmarks of NLP models have more or less reached a plateau. Computationally expensive and bad for the environment, large language models of industry giants are based on humongous datasets. Those so-called “Foundation models” are lacking interpretability, verifiability, safety, and fairness leading to bias, toxicity, and racism. \n",
    "\n",
    "The paper ***“On the Opportunities and Risks of Foundation Models”*** written by 112 scholars at the Stanford Institute for Human-Centered Artificial Intelligence (HAI) provides great insights into technical capabilities, applications, and societal impact including inequity, misuse, economic and environmental impact, legal and ethical considerations. [2108.07258] \n",
    "\n",
    "Over the years, talented scientists of ***Cambridge Quantum*** have leveraged mathematical principles to build a bridge between quantum theory and linguistic structures. Their approach to Quantum Natural Language Processing creates a new paradigm for the human language. \n",
    "\n",
    "This notebook aims to explain the specificities of the Japanese language for Lambek Calculus, the limitations of machine learning, and an introduction to Quantum NLP. \n",
    "***"
   ]
  },
  {
   "cell_type": "markdown",
   "id": "0968802f",
   "metadata": {},
   "source": [
    "## <div align=\"center\">Language is quantum native  <br>  自然言語は量子ネイティブ</div>\n",
    "\n",
    "### - Pregroup grammar | プレグループ文法\n",
    "\n",
    "Every great story in NLP should begin with Noam Chomsky. For QNLP, we will start with the linguist Prof. Noam Chomsky of M.I.T and the mathematician Prof. Joachim Lambek of McGill University. For the last 70 years, Chomsky developed many frameworks to understand the human language. More in the shadow, the German-born Canadian mathematician Joachim Lambek revealed the beauty of mathematics in language. \n",
    "\n",
    "Inspired by Noam Chomsky's syntactic structures, his brilliant book ***“From word to sentence: a computational algebraic approach to grammar”***, Joachim Lambek revealed a computational approach (borrowed from Category Theory) that could be applied to natural languages, Pregroup Grammar.\n",
    "\n",
    "Prof. Lambek’s mathematical idea is to assign to each word one or more types in partial order. A pregroup is a partially ordered monoid, in which each element $a$ has a left adjoint $a^l$ and $a$ right adjoint $a^r$ such that: \n",
    "\n",
    "$$ a^la\\longrightarrow 1 \\longrightarrow aa^l \\hspace{1cm}and\\hspace{1cm} aa^r \\longrightarrow 1 \\longrightarrow a^ra $$\n",
    "\n",
    "where the arrow $ \\longrightarrow $ is used to denote the partial order.\n",
    "\n",
    "Consequences of the definition of pregroup are the following identities:\n",
    "\n",
    "$$ 1^l = 1, \\hspace{1cm} a^{rl} = a, \\hspace{1cm}(ab)^l = b^la^l, \\hspace{1cm}aa^la = a  \\hspace{1cm}a^laa^l = a^l $$\n",
    "$$ 1^r = 1, \\hspace{1cm} a^{lr} = a, \\hspace{1cm}(ab)^r = b^ra^r, \\hspace{1cm}aa^ra = a  \\hspace{1cm}a^raa^r = a^r $$\n",
    "\n",
    "and the following implication:\n",
    "\n",
    "$$ if a \\longrightarrow b \\hspace{1cm}then\\hspace{1cm} b^l \\longrightarrow a^l \\hspace{1cm}and\\hspace{1cm} b^r \\longrightarrow a^r. $$ \n",
    "\n",
    "In linguistic, we will leverage ***free pregroup*** partially ordered set of ***basic types***. \n",
    "And from basic types, we could build ***simple types*** such as if $ a $ is a basic type, then: \n",
    "$$ ..., a^{ll}, a^l, a, a^r, a^{rr}, ... $$"
   ]
  },
  {
   "cell_type": "markdown",
   "id": "2ca343e1",
   "metadata": {},
   "source": [
    "### -  DisCoCat | ディスコカト\n",
    "\n",
    "Around 2008, ***Prof. Mehrnoosh Sadrzadeh***, ***Prof. Steve Clark***, and ***Prof. Bob Coecke*** combined their knowledge in grammar algebra, vector-space for words, and categorical quantum mechanics. The group of researchers from University of Cambridge and Oxford University created a unified mathematical framework called the ***“DisCoCat (Distributional Compositional Categorical)”*** model linking the meanings of words in distributional vector-space models, and the grammar structures using the algebra of Pregroups. [1003.4394]\n",
    "\n",
    "In layman's terms, the goal of Pregroup grammar is to reduce elements in order to validate them into a correct sentence. \n",
    "And DisCoCat is a language-modeling framework with a diagram approach of words in a sentence to understand the meaning. \n",
    "\n",
    "In English, it will be the following basic types:\n",
    "* $ n $ : noun\n",
    "* $ s $ : declarative statement\n",
    "\n",
    "The example sentence:\n",
    "\n",
    "<div align=\"center\"><b>John     likes     Mary</b></div>\n",
    "$$ n \\hspace{1cm}(n^r sn^l ) \\hspace{1cm}n$$\n",
    "\n",
    "and it is grammatical because of the following reduction:\n",
    "\n",
    "$$n(n^r sn^l )n \\longrightarrow 1sn^ln → 1s1 \\longrightarrow s$$\n",
    "\n",
    "In their research paper, we can discover in a diagrammatic way, the flow with the meaning of words as quantum states and grammar relations as quantum measurements. Ten years later, we could implemented the sentence in less than 4 lines..."
   ]
  },
  {
   "cell_type": "markdown",
   "id": "68ebb513",
   "metadata": {},
   "source": [
    "### - 𝛌ambeq | ランベック\n",
    "\n",
    "In 2021, Cambridge Quantum released an open-source software toolkit, ***“lambeq” (stylized as 𝛌ambeq)*** for quantum natural language processing written in Python. https://github.com/CQCL/lambeq \n",
    "\n",
    "For example: ***“John Likes Mary”***…"
   ]
  },
  {
   "cell_type": "code",
   "execution_count": 1,
   "id": "83b00e4e",
   "metadata": {
    "scrolled": true
   },
   "outputs": [
    {
     "data": {
      "image/png": "[encoded data removed]",
      "text/plain": [
       "<Figure size 864x288 with 1 Axes>"
      ]
     },
     "metadata": {
      "needs_background": "light"
     },
     "output_type": "display_data"
    }
   ],
   "source": [
    "from lambeq import BobcatParser # Import lambeq - toolkit for quantum NLP and parser \n",
    "from discopy import grammar # Import DisCoPy - toolkit for computing monoidal categories \n",
    "\n",
    "sentence = 'John likes Mary' # Import sentence of your choice... \n",
    "\n",
    "parser = BobcatParser(verbose='suppress') # Parse the sentence\n",
    "diagram = parser.sentence2diagram(sentence) # Convert into a string diagram\n",
    "\n",
    "grammar.draw(diagram, figsize=(12,4), fontsize=12) # Visualize the Quantum circuit"
   ]
  },
  {
   "cell_type": "markdown",
   "id": "d4abc894",
   "metadata": {},
   "source": [
    "***Lambeq is a full Quantum NLP pipeline*** starting with the Combinatory Categorial grammar (CCG) parser, the tree parser is transformed to a diagram with DisCoPy, the diagram is simplified and rewrited, then converted into a quantum circuit according to various parameters and choices of ansätze. The training phase can be made ***classical*** with a loss function via PyTorch and in ***quantum*** with an SPSA optimizer. For the latest, the quantum circuit should be compile with  ***t|ket〉*** *(pronounced “ticket”)* in order to implement it on quantum devices. \n",
    "\n",
    "Ps: Lambeq’s first element of the pipeline, the Combinatory Categorial Grammar (CCG) parser is available in English and Japanese. [1704.06936] \n",
    "***"
   ]
  },
  {
   "cell_type": "markdown",
   "id": "2760aceb",
   "metadata": {},
   "source": [
    "## <div align=\"center\">Compositionality in logographic writing systems for Japanese <br> 日本語の表記体系の合成性 </div>\n",
    "\n",
    "This complex title allows me to do a philosophical digression. Language is the most anarchist system created by humans. Grammarians are trying to enforce rules. Linguists are trying to understand it. Languages are constantly evolving and Japanese is a great example. \n",
    "\n",
    "Starting Yayoi period (弥生時代, 200 B.C. - A.D. 300), the Japanese writing system was heavily influenced by the Chinese intellectual elite with Chinese characters (漢字, Hanzi/Kanjis). \n",
    "\n",
    "Adopted, transformed, and simplified, those logograms are still caring an abstract meaning. \n",
    "\n",
    "* **Pictograms** (pictorial representations) 山 for 'mountain'.\n",
    "* **Ideograms** (abstract concepts), such as 上 'up' and 下 'down'. \n",
    "* **Radical compounds**, such as 休 'rest' is composed of the characters for 'person' (人) and 'tree' (木)\n",
    "* **Compounds of kanjis**, such as 火山 ‘volcano’ is composed of kanji ‘fire’ (火) and ‘mountain’ (山) \n",
    "\n",
    "More than Aristotle, Confucian philosopher Xunzi (c. 310-235 BC) might be more appropriate for the study of the Chinese or Japanese language. According to Prof. Peng Zhejiang, Xunzi's philosophy of language was mainly unfolded through the \"Discrimination of ming 名 (names) and shi 实 (realities)\" and the \"discrimination of yan 言 (words) and yi 意 (meanings). \n",
    "\n",
    "In modern times, Japanese was also influenced by words from Dutch, Portuguese, and English language. In modern Japanese, the vocabulary is made of native Japanese words (和語, wago), Chinese words made in Chinese characters (漢語, kango), and borrow words from other languages (外来語, gairaigo). \n",
    "\n",
    "From a quantum perspective, the Japanese language gives us a new metaphysical conundrum. Our example, ‘John likes Mary’ in Japanese will be written such as\n",
    "<div align=\"center\"><b>ジョンはマリが好きです。</b></div>\n",
    "<div align=\"center\"><b>John likes Mary</b></div>\n",
    "\n",
    "The names John and Mary are written in katakana. If you tried the same sentence on popular Japanese names ‘Ren likes Haru’ such as <br>\n",
    "\n",
    "<div align=\"center\"><b>蓮は春が好きです。</b></div>\n",
    "<div align=\"center\"><b>Ren likes Haru </b></div>\n",
    "\n",
    "This basic sentence ‘Ren likes Haru’ creates a polysemy, ‘The lotus likes the spring’. Or what about the famous sentence invented by Noam Chomsky in his book Syntactic Structures (1957)? \n",
    "\n",
    "<div align=\"center\"><b>‘Colorless green ideas sleep furiously’</b></div>\n",
    "<div align=\"center\"><b>「色無き緑の考えが猛烈に眠る。」</b></div>\n",
    "\n",
    "\n",
    "Our sentence is already grammatically correct but semantically confusing. In Japan, the distinction between the colors green and blue is rather complex. Coming from the classical Chinese language ‘青’ (blue-black) and more popular nowadays as green in modern Chinese. In modern Japanese, green could be written ‘青’ (ao), 緑 (midori), in hiragana みどり (midori), and thanks probably to marketing in katakana, グリーン. \n",
    "\n",
    "The green traffic light ‘青信号’ and the green apples ‘青りんご’ are written with the kanji blue ‘青’. That would translate literally ‘blue signal’ and ‘blue apples’. Similar to the green ideas ‘緑の考え’, the notion of ‘fresh’ in Japanese is blue such as the ‘youth’ as ‘青春’ (literally: the blue spring). By using green ideas ‘緑の考え’, we would have another psycholinguistic layer inclined towards environment-friendly, not fresh ideas. \n",
    "\n",
    "In machine learning, the classical Boolean logic helps us to decide between blue and green in a predefined vector space. The quantum logic a la Birkhoff-von Neumann give us the fruitful observation of blue, green, and their complementarity in vector spaces and subspaces. \n",
    "\n",
    "An intrinsic characteristic of human language, ambiguity is one of the biggest challenges in NLP. Will the Lambek Calculus help in Japanese? And could we bring it to a diagrammatic model?\n",
    "***"
   ]
  },
  {
   "cell_type": "markdown",
   "id": "97b5fcea",
   "metadata": {},
   "source": [
    "## <div align=\"center\">Lambek Calculus in Japanese <br> 日本語のランベック計算 </div>\n",
    "\n",
    "Lucky for us, we have a full guide thanks to the great thesis ***“An algebraic study of Japanese grammar”*** written by Kumi Cardinal in 2002 (supervised by Joachim Lambek himself). It’s covering many aspects of Japanese grammar from the inflection of verbs to major case markers (MQ85771). Let’s apply pregroup grammar to a few Japanese sentences with basic types such as:\n",
    "* $\\pi$ = pronoun\n",
    "* $\\bar n $ = proper noun\n",
    "* $n$ = noun\n",
    "* $s$ = statement when irrelevant tense\n",
    "* $\\bar s$ = topicalized sentence \n",
    "* $s_i$ = statement $i = 1$ non-perfective / $i = 2$ perfective\n",
    "* $c_1$ = nominative complement\n",
    "* ...\n",
    "    \n",
    "In modern English, word order is critical to the meaning of the phrase. The regular structure is ***Subject, Verb, and Object (SVO)***. While in modern Japanese, the regular structure is ***Subject, Object, and Verb (SOV)*** and the ***order isn’t relevant*** (more or less). \n",
    "\n",
    "According to Prof. Miyagawa, case particles are used to identify the subject or direct object but Japanese is a free word order language (or scrambling). <br>\n",
    "<br>Example: ***John ate pizza.*** (S-V-O)<br><br>\n",
    "\n",
    "<div align=\"center\"><b>ジョンがピザを食べた。 </b></div>\n",
    "$$ \\bar n \\hspace{1cm}(\\pi^r c_1) \\hspace{1cm} n \\hspace{1cm}(\\pi^r c_4) \\hspace{1cm}(c_4^rc_1^r s_2) \\longrightarrow s_2 $$\n",
    "<div align=\"center\">John pizza ate (S-O-V)</div><br>\n",
    "\n",
    "In Japanese, the order could be exchanged, while the meaning is the same. <br><br>\n",
    "\n",
    "<div align=\"center\"><b>ピザをジョンが食べた。</b></div>\n",
    "$$ n \\hspace{1cm}(\\pi^r c_4)\\hspace{1cm}\\bar n \\hspace{1cm}(\\pi^r c_1)  \\hspace{1cm}(c_4^rc_1^r s_2) \\longrightarrow s_2 $$\n",
    "<div align=\"center\">Pizza John ate (O-S-V) </div><br>\n",
    "\n",
    "One step further, it’s usual in Japanese to avoid the use of personal pronouns that are easily understood in the context. <br>In our sentence, John could say: <br><br>\n",
    "\n",
    "<div align=\"center\"><b>ピザを食べた。</b></div>\n",
    "$$ n \\hspace{1cm}(\\pi^r c_4) \\hspace{1cm}(c_4^rc_1^r s_2) \\longrightarrow s_2 $$\n",
    "<div align=\"center\">Pizza ate (O-V) </div>\n",
    "    \n",
    "And finally, John could just say \"tabeta\" \n",
    "    \n",
    "<div align=\"center\"><b>食べた。</b></div>\n",
    "$$ \\hspace{1cm}(s_2) \\longrightarrow s_2 $$\n",
    "<div align=\"center\">ate (V) </div>"
   ]
  },
  {
   "cell_type": "markdown",
   "id": "f58bb4db",
   "metadata": {},
   "source": [
    "In machine learning, the classic generative method for Part-of-speech tagging using hidden Markov models might work in English or French. For Japanese morphological analysis, this approach reveals a label bias and length bias. The first factor is that Japanese don’t have space so that will create word boundaries ambiguity. The second factor is Japanese don’t rely on order, it’s a free word order and head-final structure. CRFs (conditional random fields) overcome those problems with a discriminative approach. Therefore, $ P(y|x) $ gives us better results than $P(y, x)$ for the Japanese language. ACL [W04-3230] \n",
    "\n",
    "And perhaps more significant for Quantum NLP, it’s important to understand the relation of each element of a sentence, and the full structure of the sentence to have a clear meaning in Japanese. Pregroup grammar à la Lambek gives us 'internal wiring' of Cartesian verbs, which in turn would offer appropriate meaning of space and time.\n",
    "***"
   ]
  },
  {
   "cell_type": "markdown",
   "id": "839d082c",
   "metadata": {},
   "source": [
    "## <div align=\"center\">Spatial meaning in Japanese<br> 日本語の空間認識</div>\n",
    "\n",
    "### - Spatial distance | 空間的な距離\n",
    "\n",
    "The Japanese language is relying heavily on spatial relations. The architecture of the Japanese language is based on ***‘case markers’*** such as ***ni, に*** (Time/Destination/Location of existence), ***de, で*** (Location/Means), ***he, へ*** (direction), or temporal and spatial adverbs such as ***today, 今日*** and ***next month, 来月***, etc. "
   ]
  },
  {
   "cell_type": "markdown",
   "id": "631eef16",
   "metadata": {},
   "source": [
    "<div align=\"center\"><b>机の上にコンピュータがにあります。</b></div>\n",
    "$$ n \\hspace{1cm}(\\pi^r nn^l) \\hspace{1cm}n\\hspace{1cm} (\\pi^r c_3) \\hspace{1cm}n\\hspace{1cm} (\\pi^r c_1) \\hspace{1cm}   (c_1^r c_3^r s_1) \\longrightarrow s_1 $$\n",
    "<div align=\"center\"><i>There is a computer on the desk.</i></div> \n",
    "<br>\n",
    "<div align=\"center\"><b>アムステルダムで遊びました。</b></div>\n",
    "$$ \\bar n \\hspace{1cm} (\\bar n^r c_5) \\hspace{1cm} (c_5^r s_2) \\longrightarrow s_2 $$\n",
    "<div align=\"center\"><i>We had fun in Amsterdam.</i></div>\n",
    "\n",
    "For foreigners, the most confusing experience is learning about pronouns ここ (koko, here), そこ (soko, there), and あそこ (asoko, over there). The speaker must be aware of his\\her own spatial position, the spatial position of the listener, and the space in order to correctly articulate. "
   ]
  },
  {
   "cell_type": "markdown",
   "id": "5b3530bc",
   "metadata": {},
   "source": [
    "#### 1 - ここ, koko (near speaker and listener)\n",
    "\n",
    "<div align=\"center\"><b>ここはミーティングルームです。</b></div>\n",
    "$$ \\pi \\hspace{1cm}(\\pi^r \\bar s s^l)\\hspace{1cm}n\\hspace{1cm}(n^r s_1) \\longrightarrow \\bar s $$\n",
    "<div align=\"center\"><i>“This is a meeting room.”</i></div>\n",
    "\n",
    "#### 2 - そこ, soko (near listener/not speaker)\n",
    "<div align=\"center\"><b>そこは支店長の事務所です。</b></div>\n",
    "$$ \\pi \\hspace{1cm}(\\pi^r \\bar s s^l)\\hspace{1cm}n\\hspace{1cm}(\\pi^r nn^l)\\hspace{1cm}n\\hspace{1cm}(n^r s_1) \\longrightarrow \\bar s $$\n",
    "<div align=\"center\"><i>“There, it's the office of the branch manager”</i></div>\n",
    "\n",
    "#### 3 - あそこ, asoko (far from speaker and listener)\n",
    "<div align=\"center\"><b>あそこの建物はメーンバンクです。</b></div>\n",
    "$$ \\pi \\hspace{1cm}(\\pi^r \\bar nn^l)\\hspace{1cm}n\\hspace{1cm}(\\pi^r \\bar ss^l)\\hspace{1cm}n\\hspace{1cm}(n^r s_1) \\longrightarrow \\bar s $$\n",
    "<div align=\"center\"><i>“The building over there is our financing bank”</i></div>"
   ]
  },
  {
   "cell_type": "markdown",
   "id": "db524137",
   "metadata": {},
   "source": [
    "## - Japanese honorifics | 敬語\n",
    "\n",
    "The Japanese language displays a strong hierarchical structure of the human social organization. We can understand age variation in the family, you have 兄 (older brother), 弟 (younger brother), 姉 (older sister), 妹 (younger sister), 伯父 (uncle older than one’s parent), 叔父 (uncle younger than one’s parent), etc… \n",
    "\n",
    "The expression of politeness relies on honorifics, keigo (敬語、けいご). The sociolinguistic concept creates a hierarchical structure. In her best-selling book ***‘Japanese Society - タテ社会の人間関係’*** (1970), social anthropologist Chie Nakane characterizes Japan as \"a vertical society\" where human relations are based on \"place\" (shared space) instead of \"attribute\" (qualifications). \n",
    "\n",
    "Using Japanese honorifics, we have three levels, the ***polite form*** ‘Teineigo’ (丁寧語、ていねいご), the ***honorific form*** ‘Sonkeigo’ (尊敬語、そんけいご), and the ***humble form*** ‘Kenjougo’ (謙譲語、けんじょうご).\n",
    "\n",
    "Based on strong Confucian ethics, age and knowledge are highly valued in Japan. The three levels of politeness should be respected with common honorifics さん (san, polite form of equal level, Mr./Mrs.), 様 (sama, client/Sir.), 君 (kun, young men/same age), 後輩 (kôhai, junior), 先輩 (senpai, senior), 先生 (sensei, Doctor/Prof/Lawyer), etc.  For example, students and professors in a university, subordinates and superiors in a company, beginners and advanced practitioners in a sportclub or again sales associates and clients in a shop. \n",
    "\n",
    "In a simple way, the verb “see” 見る miru (neutral/casual) will take the polite form 見ます mimasu. But it will change to the verb ご覧になる go-ran ni naru in honorific talking to a superior or person of knowledge. It will transform again to another verb  拝見する haiken suru in the humble form.\n",
    "\n",
    "Example of politeness level from Japanese TV drama, ***Hanzawa Naoki - 半沢直樹 (TBS)***"
   ]
  },
  {
   "cell_type": "markdown",
   "id": "fea3a9b9",
   "metadata": {},
   "source": [
    "#### 1 - Polite | 丁寧語\n",
    "\n",
    "<div align=\"center\"><b>金融庁に報告します。 </b></div>\n",
    "$$ n\\hspace{1cm}(\\pi^r c_3) \\hspace{1cm}n_v\\hspace{1cm}(n^r_v c^r_3 s_1) \\longrightarrow s_1 $$\n",
    "<div align=\"center\"><i>“I will report it to the FSA” (Financial Services Agency, Japanese SEC)</i></div>\n",
    "\n",
    "* It’s a polite form used in a formal work environment between employees of similar status. It’s the verbal noun 報告 (hoûkoku, to report), plus する (suru, to do) in polite form します."
   ]
  },
  {
   "cell_type": "markdown",
   "id": "074948fe",
   "metadata": {},
   "source": [
    "#### 2 - Honorific | 尊敬語\n",
    "\n",
    "<div align=\"center\"><b>社長は、いらっしゃいますか？</b></div>\n",
    "$$ n\\hspace{1cm}(\\pi^r \\bar ss^l)\\hspace{1cm}(s_1) \\hspace{1cm} (s^r q)\\longrightarrow q $$\n",
    "<div align=\"center\"><i>“The CEO is available?”</i></div>\n",
    "\n",
    "* The honorific form of the secretary is used to know if the chairman of the company is available/or in his office. In the sentence 2, いらっしゃいます is the polite form of いらっしゃる. The verb いらっしゃる is the honorific form of いる/居る (iru, to be animate)."
   ]
  },
  {
   "cell_type": "markdown",
   "id": "c351e906",
   "metadata": {},
   "source": [
    "#### 3 - Humble | 謙譲語\n",
    "\n",
    "<div align=\"center\"><b>東京中央銀行 大阪西支店半沢と申します。</b></div>\n",
    "$$ n\\hspace{1cm}(\\pi^r \\bar nn^l)\\hspace{1cm} \\bar n \\hspace{1cm}(n^r ss^l)\\hspace{1cm} s_1\\longrightarrow s $$\n",
    "<div align=\"center\"><i>“I am Mr. Hanzawa of Tokyo Chuo Bank of the south branch Osaka.”</i></div>\n",
    "\n",
    "\n",
    "* The humble form is used by the speaker (Hanzawa) toward a client by modesty. Client facing you have to introduce your company, your branch, and then yourself. In the sentence 3, 申します is the polite form of 申す. The verb 申す is the humble form of 言う (iu, to say)."
   ]
  },
  {
   "cell_type": "markdown",
   "id": "2a42d82e",
   "metadata": {},
   "source": [
    "Verb inflection in French is an absolute nightmare. For simplicity's sake, Kumiko Cardinal didn't incorporate irregular verbs (group 3) such as する / 為る  (suru, to do, to become, to make, etc...), 来る (kuru, to approach, to arrive, etc...). And only focused on the group 1 and group 2. \n",
    "\n",
    "According to the rules of **Formality**, I am wondering if we could add two new categories for honorific and humble form?\n",
    "\n",
    "* F1 = Informal = $\\emptyset$, F2 = Formal ... and F3 = Honorific, F4 = Humble ?"
   ]
  },
  {
   "cell_type": "markdown",
   "id": "3369661f",
   "metadata": {},
   "source": [
    "<div align=\"center\"><b>山田会長はお酒を召し上がりますか？</b></div>\n",
    "$$ \\bar n \\hspace{1cm} (\\pi^r \\bar ss^l) \\hspace{1cm} n\\hspace{1cm} (\\pi^r  c_4) \\hspace{1cm} (c_4^r c_3 s_1)\\hspace{1cm}  (s^r q)\\longrightarrow q $$\n",
    "<div align=\"center\"><i>“Chairman Yamada, what would you like to drink for alcohol?”</i></div>\n",
    "\n",
    "\n",
    "* The honorific form should be used by any employee towards the chairman. In the sentence, 召し上がります (meshiagarimasu) is the polite form of 召し上がる (meshiagaru). The verb 召し上がる is the honorific form of 食べる / 飲む (taberu/nomu, to eat or to drink). \n",
    "\n",
    "<div align=\"center\"><b> $召し上がります (meshiagarimasu)  \\hspace{1cm} - > meshiagari A_1 F_3 \\theta_1 T_1 \\hspace{1cm} - > C_{131}? $</b></div>\n",
    "\n",
    "***"
   ]
  },
  {
   "cell_type": "markdown",
   "id": "1bb8977f",
   "metadata": {},
   "source": [
    "## <div align=\"center\">Quantum Advantage<br>量子優位性</div>\n",
    "\n",
    "While the business world is just starting to fully leverage machine and deep learning models, we already have a race for quantum advantage. Quantum natural language processing is incorporating many key elements of linguistics, category theory, grammar, quantum mechanics, and even philosophy. \n",
    "\n",
    "Those interdisciplinary researches offer exciting visions and unique opportunities. The musical theory helped Isaac Newton to understand light and colors, including the subtle color variations of blue and green. The combination of folk dancing and math puzzles gave us the exceptional boxing skills of Vasyl Lomachenko. In \"Giants steps\", jazz saxophonist John Coltrane gave us the “Coltrane circle”, the mathematical aspect of harmonic innovation in composition.\n",
    "\n",
    "From pregroup grammar, DisCoCat framework, Combinatory Categorial Grammar (CCG), ZX-calculus to the full stack Quantum NLP pipeline Lambeq, it’s friendly and open-source. In 2022, Quantum Natural Language Processing is still a young research area, yet it’s becoming more practical.\n",
    "\n",
    "In the Japanese language, we are witnessing clear limitations with a statistical approach (out-of-vocabulary problem, named-entity recognition, orthographic variation, machine translation). With hierarchical social interactions, various levels of politeness, and agglutinative structure, the Japanese language implemented a core notion of spatial concepts that could only be understood with a quantum approach. \n",
    "\n",
    "<br>\n",
    "<div align=\"center\"><b>『 あれ、ノーム・チョムスキーはアナキズムですか? 』</b></div><br>\n",
    "<div align=\"center\"><b>『 はい、93パーセントですよ!』</b></div>"
   ]
  },
  {
   "cell_type": "markdown",
   "id": "258b5633",
   "metadata": {},
   "source": [
    "Thank you for reading!\n",
    "\n",
    "Please feel free to contact me if you have any questions or suggestions.\n",
    "\n",
    "**Akim Mousterou**\n",
    "\n",
    "*** "
   ]
  }
 ],
 "metadata": {
  "kernelspec": {
   "display_name": "Python 3 (ipykernel)",
   "language": "python",
   "name": "python3"
  },
  "language_info": {
   "codemirror_mode": {
    "name": "ipython",
    "version": 3
   },
   "file_extension": ".py",
   "mimetype": "text/x-python",
   "name": "python",
   "nbconvert_exporter": "python",
   "pygments_lexer": "ipython3",
   "version": "3.9.12"
  }
 },
 "nbformat": 4,
 "nbformat_minor": 5
}
